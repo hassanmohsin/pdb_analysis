{
 "cells": [
  {
   "cell_type": "code",
   "execution_count": 1,
   "metadata": {},
   "outputs": [],
   "source": [
    "import os\n",
    "from glob import glob\n",
    "# from split_complex import split\n",
    "from tqdm import *\n",
    "import multiprocessing as mp"
   ]
  },
  {
   "cell_type": "code",
   "execution_count": 34,
   "metadata": {},
   "outputs": [],
   "source": [
    "pdb_dir = \"pdb\"\n",
    "pdb_files = glob(os.path.join(pdb_dir, '*', '*.ent'))\n",
    "pdb_files_filtered = []"
   ]
  },
  {
   "cell_type": "code",
   "execution_count": 35,
   "metadata": {},
   "outputs": [],
   "source": [
    "def filter_pdb(pdb_file):\n",
    "#     global pdb_files_filtered\n",
    "    resolution = None\n",
    "    with open(pdb_file, 'r') as f:\n",
    "        for line in f.read().splitlines():\n",
    "            if line[:21] == \"REMARK   2 RESOLUTION\": \n",
    "                resolution = line.split()[3]\n",
    "                break\n",
    "\n",
    "    # Check the No resolution\n",
    "    if resolution == 'NOT' or resolution == 'NULL': \n",
    "        return\n",
    "\n",
    "    if float(resolution) > 3.00: return None\n",
    "    pdb_files_filtered.append(pdb_file)\n",
    "    return pdb_file"
   ]
  },
  {
   "cell_type": "code",
   "execution_count": 36,
   "metadata": {},
   "outputs": [],
   "source": [
    "pool = mp.Pool(mp.cpu_count())\n",
    "pdb_files_filtered = pool.map(filter_pdb, pdb_files)"
   ]
  },
  {
   "cell_type": "code",
   "execution_count": 37,
   "metadata": {},
   "outputs": [],
   "source": [
    "# pool = mp.Pool(mp.cpu_count())\n",
    "# for _ in tqdm_notebook(pool.imap_unordered(filter_pdb, pdb_files), total=len(pdb_files)):\n",
    "#     pass\n",
    "# pool.close()\n",
    "# pool.join()\n",
    "# # pbar.close()"
   ]
  },
  {
   "cell_type": "code",
   "execution_count": 38,
   "metadata": {},
   "outputs": [],
   "source": [
    "pdbids = [os.path.splitext(f.split('/')[2])[0] for f in pdb_files_filtered if f is not None]"
   ]
  },
  {
   "cell_type": "code",
   "execution_count": 39,
   "metadata": {},
   "outputs": [],
   "source": [
    "import pickle\n",
    "with open(\"high_quality_pdbs.pickle\", \"wb\") as f:\n",
    "    pickle.dump(pdbids, f)"
   ]
  },
  {
   "cell_type": "code",
   "execution_count": 40,
   "metadata": {},
   "outputs": [
    {
     "data": {
      "text/plain": [
       "131502"
      ]
     },
     "execution_count": 40,
     "metadata": {},
     "output_type": "execute_result"
    }
   ],
   "source": [
    "len(pdbids)"
   ]
  },
  {
   "cell_type": "code",
   "execution_count": null,
   "metadata": {},
   "outputs": [],
   "source": []
  }
 ],
 "metadata": {
  "kernelspec": {
   "display_name": "Python 3",
   "language": "python",
   "name": "python3"
  },
  "language_info": {
   "codemirror_mode": {
    "name": "ipython",
    "version": 3
   },
   "file_extension": ".py",
   "mimetype": "text/x-python",
   "name": "python",
   "nbconvert_exporter": "python",
   "pygments_lexer": "ipython3",
   "version": "3.6.8"
  }
 },
 "nbformat": 4,
 "nbformat_minor": 2
}
